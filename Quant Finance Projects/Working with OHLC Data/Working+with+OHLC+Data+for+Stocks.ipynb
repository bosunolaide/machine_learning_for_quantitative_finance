{
 "cells": [
  {
   "cell_type": "code",
   "execution_count": 1,
   "id": "experienced-boards",
   "metadata": {},
   "outputs": [],
   "source": [
    "import yfinance as yf"
   ]
  },
  {
   "cell_type": "markdown",
   "id": "caroline-clearance",
   "metadata": {},
   "source": [
    "## Retrieving financial information is also super easy. Simply pass as an argument of Ticker the ticker of the company. Below code uses Amazon as an example:"
   ]
  },
  {
   "cell_type": "code",
   "execution_count": 5,
   "id": "realistic-vanilla",
   "metadata": {},
   "outputs": [
    {
     "name": "stdout",
     "output_type": "stream",
     "text": [
      "{'zip': '98109-5210', 'sector': 'Consumer Cyclical', 'fullTimeEmployees': 1544000, 'longBusinessSummary': 'Amazon.com, Inc. engages in the retail sale of consumer products and subscriptions in North America and internationally. The company operates through three segments: North America, International, and Amazon Web Services (AWS). It sells merchandise and content purchased for resale from third-party sellers through physical and online stores. The company also manufactures and sells electronic devices, including Kindle, Fire tablets, Fire TVs, Rings, and Echo and other devices; provides Kindle Direct Publishing, an online service that allows independent authors and publishers to make their books available in the Kindle Store; and develops and produces media content. In addition, it offers programs that enable sellers to sell their products on its websites, as well as its stores; and programs that allow authors, musicians, filmmakers, Twitch streamers, skill and app developers, and others to publish and sell content. Further, the company provides compute, storage, database, analytics, machine learning, and other services, as well as fulfillment, advertising, publishing, and digital content subscriptions. Additionally, it offers Amazon Prime, a membership program, which provides free shipping of various items; access to streaming of movies and series; and other services. The company serves consumers, sellers, developers, enterprises, and content creators. Amazon.com, Inc. was incorporated in 1994 and is headquartered in Seattle, Washington.', 'city': 'Seattle', 'phone': '206 266 1000', 'state': 'WA', 'country': 'United States', 'companyOfficers': [], 'website': 'https://www.amazon.com', 'maxAge': 1, 'address1': '410 Terry Avenue North', 'industry': 'Internet Retail', 'ebitdaMargins': 0.10265, 'profitMargins': 0.022550002, 'grossMargins': 0.43043998, 'operatingCashflow': 39665000448, 'revenueGrowth': 0.147, 'operatingMargins': 0.025829999, 'ebitda': 51548999680, 'targetLowPrice': 80, 'recommendationKey': 'buy', 'grossProfits': 197478000000, 'freeCashflow': -12691999744, 'targetMedianPrice': 140, 'currentPrice': 91.27, 'earningsGrowth': -0.097, 'currentRatio': 0.937, 'returnOnAssets': 0.02, 'numberOfAnalystOpinions': 47, 'targetMeanPrice': 141.36, 'debtToEquity': 119.525, 'returnOnEquity': 0.08776, 'targetHighPrice': 232.75, 'totalCash': 58661998592, 'totalDebt': 164333993984, 'totalRevenue': 502190997504, 'totalCashPerShare': 5.75, 'financialCurrency': 'USD', 'revenuePerShare': 49.349, 'quickRatio': 0.674, 'recommendationMean': 1.8, 'exchange': 'NMS', 'shortName': 'Amazon.com, Inc.', 'longName': 'Amazon.com, Inc.', 'exchangeTimezoneName': 'America/New_York', 'exchangeTimezoneShortName': 'EST', 'isEsgPopulated': False, 'gmtOffSetMilliseconds': '-18000000', 'quoteType': 'EQUITY', 'symbol': 'AMZN', 'messageBoardId': 'finmb_18749', 'market': 'us_market', 'annualHoldingsTurnover': None, 'enterpriseToRevenue': 2.123, 'beta3Year': None, 'enterpriseToEbitda': 20.68, '52WeekChange': -0.47298443, 'morningStarRiskRating': None, 'forwardEps': 1.68, 'revenueQuarterlyGrowth': None, 'sharesOutstanding': 10201700352, 'fundInceptionDate': None, 'annualReportExpenseRatio': None, 'totalAssets': None, 'bookValue': 13.482, 'sharesShort': 79540326, 'sharesPercentSharesOut': 0.0078, 'fundFamily': None, 'lastFiscalYearEnd': 1640908800, 'heldPercentInstitutions': 0.60058, 'netIncomeToCommon': 11322999808, 'trailingEps': 1.09, 'lastDividendValue': None, 'SandP52WeekChange': -0.15323704, 'priceToBook': 6.769767, 'heldPercentInsiders': 0.09839, 'nextFiscalYearEnd': 1703980800, 'yield': None, 'mostRecentQuarter': 1664496000, 'shortRatio': 1.15, 'sharesShortPreviousMonthDate': 1664496000, 'floatShares': 9189242016, 'beta': 1.232136, 'enterpriseValue': 1066055696384, 'priceHint': 2, 'threeYearAverageReturn': None, 'lastSplitDate': 1654473600, 'lastSplitFactor': '20:1', 'legalType': None, 'lastDividendDate': None, 'morningStarOverallRating': None, 'earningsQuarterlyGrowth': -0.09, 'priceToSalesTrailing12Months': 1.8540937, 'dateShortInterest': 1667174400, 'pegRatio': -40.23, 'ytdReturn': None, 'forwardPE': 54.32738, 'lastCapGain': None, 'shortPercentOfFloat': 0.0089, 'sharesShortPriorMonth': 78743103, 'impliedSharesOutstanding': 0, 'category': None, 'fiveYearAverageReturn': None, 'previousClose': 94.14, 'regularMarketOpen': 93.97, 'twoHundredDayAverage': 127.98872, 'trailingAnnualDividendYield': 0, 'payoutRatio': 0, 'volume24Hr': None, 'regularMarketDayHigh': 95.02, 'navPrice': None, 'averageDailyVolume10Day': 99567450, 'regularMarketPreviousClose': 94.14, 'fiftyDayAverage': 110.679, 'trailingAnnualDividendRate': 0, 'open': 93.97, 'toCurrency': None, 'averageVolume10days': 99567450, 'expireDate': None, 'algorithm': None, 'dividendRate': None, 'exDividendDate': None, 'circulatingSupply': None, 'startDate': None, 'regularMarketDayLow': 90.59, 'currency': 'USD', 'trailingPE': 83.73394, 'regularMarketVolume': 47632801, 'lastMarket': None, 'maxSupply': None, 'openInterest': None, 'marketCap': 931109142528, 'volumeAllCurrencies': None, 'strikePrice': None, 'averageVolume': 71678148, 'dayLow': 90.59, 'ask': 91.39, 'askSize': 1200, 'volume': 47632801, 'fiftyTwoWeekHigh': 185.673, 'fromCurrency': None, 'fiveYearAvgDividendYield': None, 'fiftyTwoWeekLow': 85.87, 'bid': 91.34, 'tradeable': False, 'dividendYield': None, 'bidSize': 1200, 'dayHigh': 95.02, 'coinMarketCapLink': None, 'regularMarketPrice': 91.27, 'preMarketPrice': 93.93, 'logo_url': 'https://logo.clearbit.com/amazon.com', 'trailingPegRatio': 5.2341}\n"
     ]
    }
   ],
   "source": [
    "Amazon = yf.Ticker(\"AMZN\")\n",
    "print(Amazon.info) "
   ]
  },
  {
   "cell_type": "markdown",
   "id": "floating-indiana",
   "metadata": {},
   "source": [
    "## The outcome of the print statement is a Python dictionary which we can parse in order to extract the desired financial data from Yahoo Finance. For instance, let’s extract a few financial key metrics.\n",
    "\n",
    "## All company information is contained under the info dictionary. Therefore, we can parse the dictionary to extract the elements that we are interested in:"
   ]
  },
  {
   "cell_type": "code",
   "execution_count": 9,
   "id": "aggressive-sailing",
   "metadata": {},
   "outputs": [
    {
     "name": "stdout",
     "output_type": "stream",
     "text": [
      "Consumer Cyclical\n",
      "83.58605\n"
     ]
    }
   ],
   "source": [
    "Amazon = yf.Ticker(\"AMZN\") \n",
    "\n",
    "# 1) Company Sector \n",
    "print(Amazon.info['sector']) \n",
    " \n",
    "# 2) Price Earnings Ratio \n",
    "print(Amazon.info['trailingPE'])\n",
    " "
   ]
  },
  {
   "cell_type": "markdown",
   "id": "associate-refund",
   "metadata": {},
   "source": [
    "## There are so many other things available within info. We can see all of them by printing the keys of info:"
   ]
  },
  {
   "cell_type": "code",
   "execution_count": 10,
   "id": "banner-dealer",
   "metadata": {},
   "outputs": [
    {
     "name": "stdout",
     "output_type": "stream",
     "text": [
      "dict_keys(['zip', 'sector', 'fullTimeEmployees', 'longBusinessSummary', 'city', 'phone', 'state', 'country', 'companyOfficers', 'website', 'maxAge', 'address1', 'industry', 'ebitdaMargins', 'profitMargins', 'grossMargins', 'operatingCashflow', 'revenueGrowth', 'operatingMargins', 'ebitda', 'targetLowPrice', 'recommendationKey', 'grossProfits', 'freeCashflow', 'targetMedianPrice', 'currentPrice', 'earningsGrowth', 'currentRatio', 'returnOnAssets', 'numberOfAnalystOpinions', 'targetMeanPrice', 'debtToEquity', 'returnOnEquity', 'targetHighPrice', 'totalCash', 'totalDebt', 'totalRevenue', 'totalCashPerShare', 'financialCurrency', 'revenuePerShare', 'quickRatio', 'recommendationMean', 'exchange', 'shortName', 'longName', 'exchangeTimezoneName', 'exchangeTimezoneShortName', 'isEsgPopulated', 'gmtOffSetMilliseconds', 'quoteType', 'symbol', 'messageBoardId', 'market', 'annualHoldingsTurnover', 'enterpriseToRevenue', 'beta3Year', 'enterpriseToEbitda', '52WeekChange', 'morningStarRiskRating', 'forwardEps', 'revenueQuarterlyGrowth', 'sharesOutstanding', 'fundInceptionDate', 'annualReportExpenseRatio', 'totalAssets', 'bookValue', 'sharesShort', 'sharesPercentSharesOut', 'fundFamily', 'lastFiscalYearEnd', 'heldPercentInstitutions', 'netIncomeToCommon', 'trailingEps', 'lastDividendValue', 'SandP52WeekChange', 'priceToBook', 'heldPercentInsiders', 'nextFiscalYearEnd', 'yield', 'mostRecentQuarter', 'shortRatio', 'sharesShortPreviousMonthDate', 'floatShares', 'beta', 'enterpriseValue', 'priceHint', 'threeYearAverageReturn', 'lastSplitDate', 'lastSplitFactor', 'legalType', 'lastDividendDate', 'morningStarOverallRating', 'earningsQuarterlyGrowth', 'priceToSalesTrailing12Months', 'dateShortInterest', 'pegRatio', 'ytdReturn', 'forwardPE', 'lastCapGain', 'shortPercentOfFloat', 'sharesShortPriorMonth', 'impliedSharesOutstanding', 'category', 'fiveYearAverageReturn', 'previousClose', 'regularMarketOpen', 'twoHundredDayAverage', 'trailingAnnualDividendYield', 'payoutRatio', 'volume24Hr', 'regularMarketDayHigh', 'navPrice', 'averageDailyVolume10Day', 'regularMarketPreviousClose', 'fiftyDayAverage', 'trailingAnnualDividendRate', 'open', 'toCurrency', 'averageVolume10days', 'expireDate', 'algorithm', 'dividendRate', 'exDividendDate', 'circulatingSupply', 'startDate', 'regularMarketDayLow', 'currency', 'trailingPE', 'regularMarketVolume', 'lastMarket', 'maxSupply', 'openInterest', 'marketCap', 'volumeAllCurrencies', 'strikePrice', 'averageVolume', 'dayLow', 'ask', 'askSize', 'volume', 'fiftyTwoWeekHigh', 'fromCurrency', 'fiveYearAvgDividendYield', 'fiftyTwoWeekLow', 'bid', 'tradeable', 'dividendYield', 'bidSize', 'dayHigh', 'coinMarketCapLink', 'regularMarketPrice', 'preMarketPrice', 'logo_url', 'trailingPegRatio'])\n"
     ]
    }
   ],
   "source": [
    "print(Amazon.info.keys()) "
   ]
  },
  {
   "cell_type": "markdown",
   "id": "gross-jacksonville",
   "metadata": {},
   "source": [
    "# Retrieving Historical Maket Prices:\n",
    "# Moving on with other options offered by the library. We can also use it in order to download historical market data.\n",
    "\n",
    "# For our example, we will get historical stock prices for Amazon covering the last few years. As shown below, it is a rather simple task to do:"
   ]
  },
  {
   "cell_type": "code",
   "execution_count": 14,
   "id": "false-board",
   "metadata": {},
   "outputs": [
    {
     "name": "stdout",
     "output_type": "stream",
     "text": [
      "                                 Open        High        Low      Close  \\\n",
      "Date                                                                      \n",
      "1997-05-15 00:00:00-04:00    0.121875    0.125000   0.096354   0.097917   \n",
      "1997-05-16 00:00:00-04:00    0.098438    0.098958   0.085417   0.086458   \n",
      "1997-05-19 00:00:00-04:00    0.088021    0.088542   0.081250   0.085417   \n",
      "1997-05-20 00:00:00-04:00    0.086458    0.087500   0.081771   0.081771   \n",
      "1997-05-21 00:00:00-04:00    0.081771    0.082292   0.068750   0.071354   \n",
      "...                               ...         ...        ...        ...   \n",
      "2022-11-15 00:00:00-05:00  103.209999  103.790001  97.339996  98.940002   \n",
      "2022-11-16 00:00:00-05:00   96.849998   98.489998  95.540001  97.120003   \n",
      "2022-11-17 00:00:00-05:00   95.370003   96.970001  94.029999  94.849998   \n",
      "2022-11-18 00:00:00-05:00   95.949997   95.989998  92.480003  94.139999   \n",
      "2022-11-21 00:00:00-05:00   93.970001   95.019997  90.589996  91.139099   \n",
      "\n",
      "                               Volume  Dividends  Stock Splits  \n",
      "Date                                                            \n",
      "1997-05-15 00:00:00-04:00  1443120000          0           0.0  \n",
      "1997-05-16 00:00:00-04:00   294000000          0           0.0  \n",
      "1997-05-19 00:00:00-04:00   122136000          0           0.0  \n",
      "1997-05-20 00:00:00-04:00   109344000          0           0.0  \n",
      "1997-05-21 00:00:00-04:00   377064000          0           0.0  \n",
      "...                               ...        ...           ...  \n",
      "2022-11-15 00:00:00-05:00   111336300          0           0.0  \n",
      "2022-11-16 00:00:00-05:00    87958800          0           0.0  \n",
      "2022-11-17 00:00:00-05:00    82617900          0           0.0  \n",
      "2022-11-18 00:00:00-05:00    72336500          0           0.0  \n",
      "2022-11-21 00:00:00-05:00    48462845          0           0.0  \n",
      "\n",
      "[6424 rows x 7 columns]\n"
     ]
    }
   ],
   "source": [
    "Amazon = yf.Ticker(\"AMZN\") \n",
    "print(Amazon.history(period=\"max\"))"
   ]
  },
  {
   "cell_type": "markdown",
   "id": "distributed-pierre",
   "metadata": {},
   "source": [
    "# Since we have specified period = max, we get the maximum number of daily prices available for Amazon. You can also pass a lower range. The valid options are 1d, 5d, 1mo, 3mo, 6mo, 1y, 2y, 5y, 10y and ytd."
   ]
  },
  {
   "cell_type": "code",
   "execution_count": 4,
   "id": "empirical-duncan",
   "metadata": {},
   "outputs": [
    {
     "name": "stdout",
     "output_type": "stream",
     "text": [
      "                                 Open        High         Low       Close  \\\n",
      "Date                                                                        \n",
      "2022-05-23 00:00:00-04:00  218.339996  226.653336  212.686661  224.966660   \n",
      "2022-05-24 00:00:00-04:00  217.843338  217.973328  206.856674  209.386673   \n",
      "2022-05-25 00:00:00-04:00  207.949997  223.106674  207.669998  219.600006   \n",
      "2022-05-26 00:00:00-04:00  220.473328  239.556671  217.886673  235.910004   \n",
      "2022-05-27 00:00:00-04:00  241.083328  253.266663  240.176666  253.210007   \n",
      "...                               ...         ...         ...         ...   \n",
      "2022-11-15 00:00:00-05:00  195.880005  200.820007  192.059998  194.419998   \n",
      "2022-11-16 00:00:00-05:00  191.509995  192.570007  185.660004  186.919998   \n",
      "2022-11-17 00:00:00-05:00  183.960007  186.160004  180.899994  183.169998   \n",
      "2022-11-18 00:00:00-05:00  185.050003  185.190002  176.550003  180.190002   \n",
      "2022-11-21 00:00:00-05:00  175.850006  176.770004  168.520004  169.440002   \n",
      "\n",
      "                              Volume  Dividends  Stock Splits  \n",
      "Date                                                           \n",
      "2022-05-23 00:00:00-04:00   88903500          0           0.0  \n",
      "2022-05-24 00:00:00-04:00   89092500          0           0.0  \n",
      "2022-05-25 00:00:00-04:00   92139300          0           0.0  \n",
      "2022-05-26 00:00:00-04:00  106003200          0           0.0  \n",
      "2022-05-27 00:00:00-04:00   89295000          0           0.0  \n",
      "...                              ...        ...           ...  \n",
      "2022-11-15 00:00:00-05:00   91293800          0           0.0  \n",
      "2022-11-16 00:00:00-05:00   66567600          0           0.0  \n",
      "2022-11-17 00:00:00-05:00   64336000          0           0.0  \n",
      "2022-11-18 00:00:00-05:00   75904900          0           0.0  \n",
      "2022-11-21 00:00:00-05:00   57113300          0           0.0  \n",
      "\n",
      "[127 rows x 7 columns]\n"
     ]
    }
   ],
   "source": [
    "GetTesla = yf.Ticker(\"TSLA\")\n",
    " \n",
    "# Valid options are 1d, 5d, 1mo, 3mo, 6mo, 1y,\n",
    "# 2y, 5y, 10y and ytd.\n",
    "print(GetFacebookInformation.history(period=\"6mo\"))"
   ]
  },
  {
   "cell_type": "code",
   "execution_count": null,
   "id": "continuing-retail",
   "metadata": {},
   "outputs": [],
   "source": []
  },
  {
   "cell_type": "code",
   "execution_count": null,
   "id": "wrong-oregon",
   "metadata": {},
   "outputs": [],
   "source": []
  }
 ],
 "metadata": {
  "kernelspec": {
   "display_name": "Python 3",
   "language": "python",
   "name": "python3"
  },
  "language_info": {
   "codemirror_mode": {
    "name": "ipython",
    "version": 3
   },
   "file_extension": ".py",
   "mimetype": "text/x-python",
   "name": "python",
   "nbconvert_exporter": "python",
   "pygments_lexer": "ipython3",
   "version": "3.9.1"
  }
 },
 "nbformat": 4,
 "nbformat_minor": 5
}
