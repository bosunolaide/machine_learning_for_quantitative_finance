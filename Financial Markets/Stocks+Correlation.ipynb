{
 "cells": [
  {
   "cell_type": "markdown",
   "id": "approximate-thickness",
   "metadata": {},
   "source": [
    "# Import the libraries"
   ]
  },
  {
   "cell_type": "code",
   "execution_count": 1,
   "id": "banned-newman",
   "metadata": {},
   "outputs": [],
   "source": [
    "import numpy as np \n",
    "import pandas as pd \n",
    "# Used to grab the stock prices, with yahoo \n",
    "import pandas_datareader as web \n",
    "from datetime import datetime \n",
    "# To visualize the results \n",
    "import matplotlib.pyplot as plt \n",
    "import seaborn"
   ]
  },
  {
   "cell_type": "markdown",
   "id": "static-titanium",
   "metadata": {},
   "source": [
    "# Select the list of tickers and select the daterange"
   ]
  },
  {
   "cell_type": "code",
   "execution_count": 2,
   "id": "injured-device",
   "metadata": {},
   "outputs": [],
   "source": [
    "start = datetime(2017, 1, 1)\n",
    "symbols_list = ['AAPL','TWTR', 'AMZN', 'GOOGL', 'GE', 'TSLA', 'IBM', 'PYPL']\n",
    "#array to store prices\n",
    "symbols=[]"
   ]
  },
  {
   "cell_type": "markdown",
   "id": "rapid-milwaukee",
   "metadata": {},
   "source": [
    "# Pull stock prices, push into clean dataframe"
   ]
  },
  {
   "cell_type": "code",
   "execution_count": 3,
   "id": "authorized-maine",
   "metadata": {},
   "outputs": [
    {
     "data": {
      "text/html": [
       "<div>\n",
       "<style scoped>\n",
       "    .dataframe tbody tr th:only-of-type {\n",
       "        vertical-align: middle;\n",
       "    }\n",
       "\n",
       "    .dataframe tbody tr th {\n",
       "        vertical-align: top;\n",
       "    }\n",
       "\n",
       "    .dataframe thead th {\n",
       "        text-align: right;\n",
       "    }\n",
       "</style>\n",
       "<table border=\"1\" class=\"dataframe\">\n",
       "  <thead>\n",
       "    <tr style=\"text-align: right;\">\n",
       "      <th>Symbol</th>\n",
       "      <th>Date</th>\n",
       "      <th>AAPL</th>\n",
       "      <th>AMZN</th>\n",
       "      <th>GE</th>\n",
       "      <th>GOOGL</th>\n",
       "      <th>IBM</th>\n",
       "      <th>PYPL</th>\n",
       "      <th>TSLA</th>\n",
       "      <th>TWTR</th>\n",
       "    </tr>\n",
       "  </thead>\n",
       "  <tbody>\n",
       "    <tr>\n",
       "      <th>0</th>\n",
       "      <td>2017-01-03</td>\n",
       "      <td>29.037500</td>\n",
       "      <td>37.683498</td>\n",
       "      <td>243.769226</td>\n",
       "      <td>40.400501</td>\n",
       "      <td>159.837479</td>\n",
       "      <td>40.250000</td>\n",
       "      <td>14.466000</td>\n",
       "      <td>16.440001</td>\n",
       "    </tr>\n",
       "    <tr>\n",
       "      <th>1</th>\n",
       "      <td>2017-01-04</td>\n",
       "      <td>29.004999</td>\n",
       "      <td>37.859001</td>\n",
       "      <td>243.846161</td>\n",
       "      <td>40.388500</td>\n",
       "      <td>161.816437</td>\n",
       "      <td>41.000000</td>\n",
       "      <td>15.132667</td>\n",
       "      <td>16.860001</td>\n",
       "    </tr>\n",
       "    <tr>\n",
       "      <th>2</th>\n",
       "      <td>2017-01-05</td>\n",
       "      <td>29.152500</td>\n",
       "      <td>39.022499</td>\n",
       "      <td>242.461533</td>\n",
       "      <td>40.651001</td>\n",
       "      <td>161.281067</td>\n",
       "      <td>41.060001</td>\n",
       "      <td>15.116667</td>\n",
       "      <td>17.090000</td>\n",
       "    </tr>\n",
       "    <tr>\n",
       "      <th>3</th>\n",
       "      <td>2017-01-06</td>\n",
       "      <td>29.477501</td>\n",
       "      <td>39.799500</td>\n",
       "      <td>243.153839</td>\n",
       "      <td>41.260502</td>\n",
       "      <td>162.074570</td>\n",
       "      <td>41.450001</td>\n",
       "      <td>15.267333</td>\n",
       "      <td>17.170000</td>\n",
       "    </tr>\n",
       "    <tr>\n",
       "      <th>4</th>\n",
       "      <td>2017-01-09</td>\n",
       "      <td>29.747499</td>\n",
       "      <td>39.846001</td>\n",
       "      <td>242.000000</td>\n",
       "      <td>41.359001</td>\n",
       "      <td>160.277252</td>\n",
       "      <td>41.400002</td>\n",
       "      <td>15.418667</td>\n",
       "      <td>17.500000</td>\n",
       "    </tr>\n",
       "  </tbody>\n",
       "</table>\n",
       "</div>"
      ],
      "text/plain": [
       "Symbol       Date       AAPL       AMZN          GE      GOOGL         IBM  \\\n",
       "0      2017-01-03  29.037500  37.683498  243.769226  40.400501  159.837479   \n",
       "1      2017-01-04  29.004999  37.859001  243.846161  40.388500  161.816437   \n",
       "2      2017-01-05  29.152500  39.022499  242.461533  40.651001  161.281067   \n",
       "3      2017-01-06  29.477501  39.799500  243.153839  41.260502  162.074570   \n",
       "4      2017-01-09  29.747499  39.846001  242.000000  41.359001  160.277252   \n",
       "\n",
       "Symbol       PYPL       TSLA       TWTR  \n",
       "0       40.250000  14.466000  16.440001  \n",
       "1       41.000000  15.132667  16.860001  \n",
       "2       41.060001  15.116667  17.090000  \n",
       "3       41.450001  15.267333  17.170000  \n",
       "4       41.400002  15.418667  17.500000  "
      ]
     },
     "execution_count": 3,
     "metadata": {},
     "output_type": "execute_result"
    }
   ],
   "source": [
    "#array to store prices\n",
    "symbols=[]\n",
    "for ticker in symbols_list:     \n",
    "    r = web.DataReader(ticker, 'yahoo', start)   \n",
    "    # add a symbol column   \n",
    "    r['Symbol'] = ticker    \n",
    "    symbols.append(r)\n",
    "# concatenate into df\n",
    "df = pd.concat(symbols)\n",
    "df = df.reset_index()\n",
    "df = df[['Date', 'Close', 'Symbol']]\n",
    "df.head()\n",
    "df_pivot=df.pivot('Date','Symbol','Close').reset_index()\n",
    "df_pivot.head()"
   ]
  },
  {
   "cell_type": "markdown",
   "id": "classical-glucose",
   "metadata": {},
   "source": [
    "# Now, we can run the correlation. Using the Pandas ‘corr’ function to compute the Pearson correlation coeffecient between each pair of equities"
   ]
  },
  {
   "cell_type": "code",
   "execution_count": 4,
   "id": "capital-professional",
   "metadata": {},
   "outputs": [
    {
     "data": {
      "text/html": [
       "<div>\n",
       "<style scoped>\n",
       "    .dataframe tbody tr th:only-of-type {\n",
       "        vertical-align: middle;\n",
       "    }\n",
       "\n",
       "    .dataframe tbody tr th {\n",
       "        vertical-align: top;\n",
       "    }\n",
       "\n",
       "    .dataframe thead th {\n",
       "        text-align: right;\n",
       "    }\n",
       "</style>\n",
       "<table border=\"1\" class=\"dataframe\">\n",
       "  <thead>\n",
       "    <tr style=\"text-align: right;\">\n",
       "      <th>Symbol</th>\n",
       "      <th>AAPL</th>\n",
       "      <th>AMZN</th>\n",
       "      <th>GE</th>\n",
       "      <th>GOOGL</th>\n",
       "      <th>IBM</th>\n",
       "      <th>PYPL</th>\n",
       "      <th>TSLA</th>\n",
       "      <th>TWTR</th>\n",
       "    </tr>\n",
       "    <tr>\n",
       "      <th>Symbol</th>\n",
       "      <th></th>\n",
       "      <th></th>\n",
       "      <th></th>\n",
       "      <th></th>\n",
       "      <th></th>\n",
       "      <th></th>\n",
       "      <th></th>\n",
       "      <th></th>\n",
       "    </tr>\n",
       "  </thead>\n",
       "  <tbody>\n",
       "    <tr>\n",
       "      <th>AAPL</th>\n",
       "      <td>1.000000</td>\n",
       "      <td>0.863120</td>\n",
       "      <td>-0.407079</td>\n",
       "      <td>0.948567</td>\n",
       "      <td>-0.364680</td>\n",
       "      <td>0.625508</td>\n",
       "      <td>0.964132</td>\n",
       "      <td>0.702401</td>\n",
       "    </tr>\n",
       "    <tr>\n",
       "      <th>AMZN</th>\n",
       "      <td>0.863120</td>\n",
       "      <td>1.000000</td>\n",
       "      <td>-0.570178</td>\n",
       "      <td>0.849359</td>\n",
       "      <td>-0.553471</td>\n",
       "      <td>0.871070</td>\n",
       "      <td>0.807346</td>\n",
       "      <td>0.837104</td>\n",
       "    </tr>\n",
       "    <tr>\n",
       "      <th>GE</th>\n",
       "      <td>-0.407079</td>\n",
       "      <td>-0.570178</td>\n",
       "      <td>1.000000</td>\n",
       "      <td>-0.334351</td>\n",
       "      <td>0.743919</td>\n",
       "      <td>-0.359262</td>\n",
       "      <td>-0.267593</td>\n",
       "      <td>-0.492149</td>\n",
       "    </tr>\n",
       "    <tr>\n",
       "      <th>GOOGL</th>\n",
       "      <td>0.948567</td>\n",
       "      <td>0.849359</td>\n",
       "      <td>-0.334351</td>\n",
       "      <td>1.000000</td>\n",
       "      <td>-0.282554</td>\n",
       "      <td>0.671479</td>\n",
       "      <td>0.944880</td>\n",
       "      <td>0.738864</td>\n",
       "    </tr>\n",
       "    <tr>\n",
       "      <th>IBM</th>\n",
       "      <td>-0.364680</td>\n",
       "      <td>-0.553471</td>\n",
       "      <td>0.743919</td>\n",
       "      <td>-0.282554</td>\n",
       "      <td>1.000000</td>\n",
       "      <td>-0.430646</td>\n",
       "      <td>-0.292006</td>\n",
       "      <td>-0.403634</td>\n",
       "    </tr>\n",
       "    <tr>\n",
       "      <th>PYPL</th>\n",
       "      <td>0.625508</td>\n",
       "      <td>0.871070</td>\n",
       "      <td>-0.359262</td>\n",
       "      <td>0.671479</td>\n",
       "      <td>-0.430646</td>\n",
       "      <td>1.000000</td>\n",
       "      <td>0.595033</td>\n",
       "      <td>0.856979</td>\n",
       "    </tr>\n",
       "    <tr>\n",
       "      <th>TSLA</th>\n",
       "      <td>0.964132</td>\n",
       "      <td>0.807346</td>\n",
       "      <td>-0.267593</td>\n",
       "      <td>0.944880</td>\n",
       "      <td>-0.292006</td>\n",
       "      <td>0.595033</td>\n",
       "      <td>1.000000</td>\n",
       "      <td>0.666613</td>\n",
       "    </tr>\n",
       "    <tr>\n",
       "      <th>TWTR</th>\n",
       "      <td>0.702401</td>\n",
       "      <td>0.837104</td>\n",
       "      <td>-0.492149</td>\n",
       "      <td>0.738864</td>\n",
       "      <td>-0.403634</td>\n",
       "      <td>0.856979</td>\n",
       "      <td>0.666613</td>\n",
       "      <td>1.000000</td>\n",
       "    </tr>\n",
       "  </tbody>\n",
       "</table>\n",
       "</div>"
      ],
      "text/plain": [
       "Symbol      AAPL      AMZN        GE     GOOGL       IBM      PYPL      TSLA  \\\n",
       "Symbol                                                                         \n",
       "AAPL    1.000000  0.863120 -0.407079  0.948567 -0.364680  0.625508  0.964132   \n",
       "AMZN    0.863120  1.000000 -0.570178  0.849359 -0.553471  0.871070  0.807346   \n",
       "GE     -0.407079 -0.570178  1.000000 -0.334351  0.743919 -0.359262 -0.267593   \n",
       "GOOGL   0.948567  0.849359 -0.334351  1.000000 -0.282554  0.671479  0.944880   \n",
       "IBM    -0.364680 -0.553471  0.743919 -0.282554  1.000000 -0.430646 -0.292006   \n",
       "PYPL    0.625508  0.871070 -0.359262  0.671479 -0.430646  1.000000  0.595033   \n",
       "TSLA    0.964132  0.807346 -0.267593  0.944880 -0.292006  0.595033  1.000000   \n",
       "TWTR    0.702401  0.837104 -0.492149  0.738864 -0.403634  0.856979  0.666613   \n",
       "\n",
       "Symbol      TWTR  \n",
       "Symbol            \n",
       "AAPL    0.702401  \n",
       "AMZN    0.837104  \n",
       "GE     -0.492149  \n",
       "GOOGL   0.738864  \n",
       "IBM    -0.403634  \n",
       "PYPL    0.856979  \n",
       "TSLA    0.666613  \n",
       "TWTR    1.000000  "
      ]
     },
     "execution_count": 4,
     "metadata": {},
     "output_type": "execute_result"
    }
   ],
   "source": [
    "corr_df = df_pivot.corr(method='pearson')\n",
    "#reset symbol as index (rather than 0-X)\n",
    "corr_df.head().reset_index()\n",
    "#del corr_df.index.name\n",
    "corr_df.head(10)"
   ]
  },
  {
   "cell_type": "markdown",
   "id": "sized-horse",
   "metadata": {},
   "source": [
    "# Finally, we can plot a heatmap of the correlations (with Seaborn and Matplotlib) to better visualize the results"
   ]
  },
  {
   "cell_type": "code",
   "execution_count": 6,
   "id": "smart-television",
   "metadata": {},
   "outputs": [
    {
     "data": {
      "text/plain": [
       "<Figure size 432x288 with 0 Axes>"
      ]
     },
     "execution_count": 6,
     "metadata": {},
     "output_type": "execute_result"
    },
    {
     "data": {
      "image/png": "[encoded data removed]",
      "text/plain": [
       "<Figure size 936x576 with 2 Axes>"
      ]
     },
     "metadata": {
      "needs_background": "light"
     },
     "output_type": "display_data"
    },
    {
     "data": {
      "text/plain": [
       "<Figure size 432x288 with 0 Axes>"
      ]
     },
     "metadata": {},
     "output_type": "display_data"
    }
   ],
   "source": [
    "plt.figure(figsize=(13, 8))\n",
    "seaborn.heatmap(corr_df, annot=True, cmap='RdYlGn')\n",
    "plt.figure()"
   ]
  },
  {
   "cell_type": "code",
   "execution_count": null,
   "id": "challenging-thong",
   "metadata": {},
   "outputs": [],
   "source": []
  }
 ],
 "metadata": {
  "kernelspec": {
   "display_name": "Python 3",
   "language": "python",
   "name": "python3"
  },
  "language_info": {
   "codemirror_mode": {
    "name": "ipython",
    "version": 3
   },
   "file_extension": ".py",
   "mimetype": "text/x-python",
   "name": "python",
   "nbconvert_exporter": "python",
   "pygments_lexer": "ipython3",
   "version": "3.9.1"
  }
 },
 "nbformat": 4,
 "nbformat_minor": 5
}
